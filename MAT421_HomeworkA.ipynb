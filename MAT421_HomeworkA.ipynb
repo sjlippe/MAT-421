{
  "nbformat": 4,
  "nbformat_minor": 0,
  "metadata": {
    "colab": {
      "provenance": [],
      "authorship_tag": "ABX9TyPsiVNFycWUJf//nC4rpYmT",
      "include_colab_link": true
    },
    "kernelspec": {
      "name": "python3",
      "display_name": "Python 3"
    },
    "language_info": {
      "name": "python"
    }
  },
  "cells": [
    {
      "cell_type": "markdown",
      "metadata": {
        "id": "view-in-github",
        "colab_type": "text"
      },
      "source": [
        "<a href=\"https://colab.research.google.com/github/sjlippe/MAT-421/blob/main/MAT421_HomeworkA.ipynb\" target=\"_parent\"><img src=\"https://colab.research.google.com/assets/colab-badge.svg\" alt=\"Open In Colab\"/></a>"
      ]
    },
    {
      "cell_type": "markdown",
      "source": [
        "## **Homework Module A: Section 9.1, 9.2, 9.3**\n",
        "\n",
        "# 9.1 - Base-N and Binary\n",
        "\n",
        "The decimal system is a useful way of representing numbers. In this system, digits are portrayed between 0 and 9. This is considered to be a base 10 system considering that there are 10 digits. The other system is the binary system where the only available digits are 0 and 1 where this is represented in a base 2 system.\n",
        "\n"
      ],
      "metadata": {
        "id": "hT0GkSseTdLy"
      }
    },
    {
      "cell_type": "code",
      "source": [
        "# Base 10\n",
        "\n",
        "138.4 == 1*(10**2) + 3*(10**1) + 8*(10**0) + 4*(10**-1)"
      ],
      "metadata": {
        "colab": {
          "base_uri": "https://localhost:8080/"
        },
        "id": "-mfYWdbOkAD0",
        "outputId": "9a402fcc-55c4-49ba-cbba-400f0c81b500"
      },
      "execution_count": 3,
      "outputs": [
        {
          "output_type": "execute_result",
          "data": {
            "text/plain": [
              "True"
            ]
          },
          "metadata": {},
          "execution_count": 3
        }
      ]
    },
    {
      "cell_type": "code",
      "source": [
        "# 121(base3) == 16(base10)\n",
        "\n",
        "1*(3**2) + 2*(3**1) + 1*(3**0) == 1*(10**1) + 6*(10**0) "
      ],
      "metadata": {
        "colab": {
          "base_uri": "https://localhost:8080/"
        },
        "id": "lkb7xoIKAOnS",
        "outputId": "34873074-ce3b-4497-cef6-3560ce4da2e1"
      },
      "execution_count": 4,
      "outputs": [
        {
          "output_type": "execute_result",
          "data": {
            "text/plain": [
              "True"
            ]
          },
          "metadata": {},
          "execution_count": 4
        }
      ]
    },
    {
      "cell_type": "code",
      "source": [
        "# Binary in Base 2\n",
        "\n",
        "89 == 1*(2**6) + 0*(2**5) + 1*(2**4) + 1*(2**3) + 0*(2**2) + 0*(2**1) + 1*(2**0)  # 89 (Base 10) in Binary (Base 2) = 1011001\n",
        "38 == 1*(2**5) + 0*(2**4) + 0*(2**3) + 1*(2**2) + 1*(2**1) + 0*(2**0)             # 38 (Base 10) in Binary (Base 2) = 100110"
      ],
      "metadata": {
        "colab": {
          "base_uri": "https://localhost:8080/"
        },
        "id": "-Goak84JA0Md",
        "outputId": "57e0c166-bdbf-4e52-bbbf-aec37f4779f2"
      },
      "execution_count": 9,
      "outputs": [
        {
          "output_type": "execute_result",
          "data": {
            "text/plain": [
              "True"
            ]
          },
          "metadata": {},
          "execution_count": 9
        }
      ]
    },
    {
      "cell_type": "code",
      "source": [
        "# Addition and Multiplication in Binary \n",
        "\n",
        "# Using Binary Addition : 110101 + 1101 = 1000010\n",
        "# Using Binary Multiplication : 110101 * 1101 = 1010110001\n",
        "\n",
        "# Using Base 10 Addition : 53 + 13 = 66\n",
        "# Using Base 10 Multiplication : 53 * 13 = 689\n",
        "\n",
        "66 == 1*(2**6) + 0*(2**5) + 0*(2**4) + 0*(2**3) + 0*(2**2) + 1*(2**1) + 0*(2**0)\n",
        "\n",
        "689 == 1*(2**9) + 0*(2**8) + 1*(2**7) + 0*(2**6) + 1*(2**5) + 1*(2**4) + 0*(2**3) + 0*(2**2) + 0*(2**1) + 1*(2**0)"
      ],
      "metadata": {
        "colab": {
          "base_uri": "https://localhost:8080/"
        },
        "id": "aS3dXaLSCfJA",
        "outputId": "30c1d359-2cb6-4687-ee6c-f3e9fff1bac8"
      },
      "execution_count": 10,
      "outputs": [
        {
          "output_type": "execute_result",
          "data": {
            "text/plain": [
              "True"
            ]
          },
          "metadata": {},
          "execution_count": 10
        }
      ]
    },
    {
      "cell_type": "markdown",
      "source": [
        "\n",
        "\n",
        "# 9.2 - Floating Point Numbers\n",
        "\n",
        "Another way to represent numbers in python is through something called floating point numbers which is essentially any number with a decimal point. This system consists of three segments; the sign where this determines if the value is positive or negative, the exponent which determines the power of 2 and the fraction which is the coefficient of the exponent. As mentioned in the previous section, binary is represented by 1s and 0s where this is a base 2 system. 1 bit is assigned to the sign segment, 11 bits are assigned to the exponent, and 52 bits are assigned to the fraction.\n"
      ],
      "metadata": {
        "id": "dbj58Wt9kMWh"
      }
    },
    {
      "cell_type": "code",
      "source": [
        "import sys\n",
        "sys.float_info\n",
        "import numpy as np\n",
        "\n",
        "np.spacing(1e7)     # This statement finds the size of the gap when the number is 1e7\n",
        "\n",
        "1e7 == (1e7 + np.spacing(1e7)/3) \n",
        "# This prints True because the value on the right hand side of the statement falls \n",
        "# within the gap between 1e7 and the next value, therefore Python assigns this value \n",
        "# as 1e7, which is the closest number not in the gap space. "
      ],
      "metadata": {
        "colab": {
          "base_uri": "https://localhost:8080/"
        },
        "id": "9iZIynTfm2pL",
        "outputId": "a70934b3-03c0-4768-fab4-29210ba49789"
      },
      "execution_count": 19,
      "outputs": [
        {
          "output_type": "execute_result",
          "data": {
            "text/plain": [
              "True"
            ]
          },
          "metadata": {},
          "execution_count": 19
        }
      ]
    },
    {
      "cell_type": "code",
      "source": [
        "largest = (2**(2046-1023))*((1 + sum(0.5**np.arange(1,53))))\n",
        "# Prints:  1.7976931348623157e+308\n",
        "\n",
        "sys.float_info.max\n",
        "# Prints: 1.7976931348623157e+308\n",
        "\n",
        "largest == sys.float_info.max\n",
        "# Prints True because the largest e that can be used without causing a special case to occur is e = 2046.\n",
        "# Any exponent value larger than this returns either a result of undefined or \n",
        "# either positive or negative infinite, depending on the sign indicator and fraction\n",
        "     "
      ],
      "metadata": {
        "colab": {
          "base_uri": "https://localhost:8080/"
        },
        "id": "bfg8zF5vJdOd",
        "outputId": "57f0c37d-1ea5-4665-a898-9445c8174ef7"
      },
      "execution_count": 18,
      "outputs": [
        {
          "output_type": "execute_result",
          "data": {
            "text/plain": [
              "True"
            ]
          },
          "metadata": {},
          "execution_count": 18
        }
      ]
    },
    {
      "cell_type": "code",
      "source": [
        "smallest = (2**(1-1023))*(1+0)\n",
        "# Prints: 2.2250738585072014e-308\n",
        "\n",
        "sys.float_info.min\n",
        "# Prints: 2.2250738585072014e-308\n",
        "\n",
        "smallest == sys.float_info.min\n",
        "# Prints True because the smallest e that can be used without a special case is e = 1.\n",
        "# Any exponent valye smaller than this results in a subnormal number, and the 1 in the (1 + f) bracket has to become 0. "
      ],
      "metadata": {
        "colab": {
          "base_uri": "https://localhost:8080/"
        },
        "id": "mCWKfE7uJfmz",
        "outputId": "9aeada7a-ecfc-4134-a898-2307053cc7d6"
      },
      "execution_count": 17,
      "outputs": [
        {
          "output_type": "execute_result",
          "data": {
            "text/plain": [
              "True"
            ]
          },
          "metadata": {},
          "execution_count": 17
        }
      ]
    },
    {
      "cell_type": "markdown",
      "source": [
        "\n",
        "\n",
        "\n",
        "# 9.3 - Round-Off Errors\n",
        "\n",
        "Round-Off Errors occur in python as a result of apporximations with respects to numerical methods. Here are some common types of error.\n",
        "\n",
        "Round-Off Error: The difference between an approximation of a number used in computation and its correct (true) value.\n",
        "\n",
        "Truncation Error: The error made by truncating an infinite sum and approximating it by a finite sum.\n",
        "\n",
        "Representation Error: The error that is associated with using a rounded value as oppossed to using the true value. Ex: 1/3 = .3 as opposed to using .333333333 repeating."
      ],
      "metadata": {
        "id": "AK6pbLBfkQ0M"
      }
    },
    {
      "cell_type": "code",
      "source": [
        "# Lets use the example equation 4.2 - 2.496\n",
        "\n",
        "# Using a normal calculator, the answer is 1.704\n",
        "\n",
        "4.2 - 2.496     # The answer that Python produces is 1.7040000000000002\n",
        "\n",
        "1.704 == 4.2 - 2.496    # This returns false due to round-off error\n",
        "\n",
        "# By using the Python function round(), this round-off error can be elminated\n",
        "\n",
        "round(4.2 - 2.496,3)    # Returns 1.704\n",
        "\n",
        "# To further prove this point...\n",
        "\n",
        "round(4.2 - 2.496,3) == round(1.704,3)    # Returns true"
      ],
      "metadata": {
        "colab": {
          "base_uri": "https://localhost:8080/"
        },
        "id": "u9Gc5ONKGyFR",
        "outputId": "35ad261c-40f9-4c5b-84ab-08fb2b0b9a0c"
      },
      "execution_count": 21,
      "outputs": [
        {
          "output_type": "execute_result",
          "data": {
            "text/plain": [
              "True"
            ]
          },
          "metadata": {},
          "execution_count": 21
        }
      ]
    }
  ]
}