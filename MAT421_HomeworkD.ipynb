{
  "nbformat": 4,
  "nbformat_minor": 0,
  "metadata": {
    "colab": {
      "provenance": [],
      "authorship_tag": "ABX9TyMLk+gXmJld12gc2VrroOJe",
      "include_colab_link": true
    },
    "kernelspec": {
      "name": "python3",
      "display_name": "Python 3"
    },
    "language_info": {
      "name": "python"
    }
  },
  "cells": [
    {
      "cell_type": "markdown",
      "metadata": {
        "id": "view-in-github",
        "colab_type": "text"
      },
      "source": [
        "<a href=\"https://colab.research.google.com/github/sjlippe/MAT-421/blob/main/MAT421_HomeworkD.ipynb\" target=\"_parent\"><img src=\"https://colab.research.google.com/assets/colab-badge.svg\" alt=\"Open In Colab\"/></a>"
      ]
    },
    {
      "cell_type": "code",
      "execution_count": null,
      "metadata": {
        "id": "TYuOVbF17Cb-"
      },
      "outputs": [],
      "source": []
    },
    {
      "cell_type": "markdown",
      "source": [
        "# **Homework Module D: 1.1, 1.2, 1.3**"
      ],
      "metadata": {
        "id": "RW-VuKgb7DfU"
      }
    },
    {
      "cell_type": "markdown",
      "source": [
        "# 1.1 Basics of Linear Algebra\n",
        "\n",
        "Naturals (ℕ)\n",
        "\n",
        "ℕ={1,2,3,4,⋯}\n",
        "\n",
        "Wholes (𝕎)\n",
        "\n",
        "𝕎=ℕ∪{0}\n",
        "\n",
        "Integers (ℤ)\n",
        "\n",
        "ℤ=𝕎∪{−1,−2,−3,⋯}\n",
        "\n",
        "Rationals (ℚ)\n",
        "\n",
        "ℚ={𝑝𝑞:𝑝∈ℤ,𝑞∈ℤ∖{0}}\n",
        "\n",
        "Irrationals (𝕀)\n",
        "\n",
        "𝕀 - the set of real numbers not expressible as a fraction of integers.\n",
        "\n",
        "Reals (ℝ)\n",
        "\n",
        "ℝ=ℚ∪𝕀\n",
        "\n",
        "Complex Numbers (ℂ)\n",
        "\n",
        "ℂ={𝑎+𝑏𝑖:𝑎,𝑏∈ℝ,𝑖=−1‾‾‾√}"
      ],
      "metadata": {
        "id": "Rn9du2rT7HqI"
      }
    },
    {
      "cell_type": "markdown",
      "source": [
        "# 1.2 Elements of Linear Algebra\n",
        "Linear Subspace - (of V) is a subset U ⊆ V that is closed under vector addition and scalar multiplication. That is for all u1, u2 ∊ U and a ∊ R it holds u1 + u2 and a u1 ∊ u.\n",
        "\n",
        "Span - let w1,...,wm ∊ V. The span is denoted span(w1,...,wm) is the set of all linear combos of the w's\n",
        "\n",
        "Every Span is a Linear Subspace - Let W = span(w1,...,wm). Then W is a linear subspace."
      ],
      "metadata": {
        "id": "JmwbCWi_7xl5"
      }
    },
    {
      "cell_type": "code",
      "source": [
        "import numpy as np\n",
        "x = np.array([[4, 5, 9]])\n",
        "z = np.array([[1, 3, 5]])\n",
        "print(np.cross(x, z))"
      ],
      "metadata": {
        "colab": {
          "base_uri": "https://localhost:8080/"
        },
        "id": "Thi0nkkB73pp",
        "outputId": "a1bade99-bc37-43c5-e10b-519aa5f0b5a2"
      },
      "execution_count": 5,
      "outputs": [
        {
          "output_type": "stream",
          "name": "stdout",
          "text": [
            "[[ -2 -11   7]]\n"
          ]
        }
      ]
    },
    {
      "cell_type": "markdown",
      "source": [
        "Column Space - Let A ∊ R^(nxm) be an nxm matrix with columns a1,...,am ∊ R^n. The column space of A, denoted col(A) is the span of the columns of A.\n",
        "\n",
        "Linear Independence - A list of column vectors u1,...,um is linearly independent if none of them can be written as a linear combinations of the others.\n",
        "\n",
        "Dimension Theorem - Let U be a linear subspace of V. Any basis of U has the same number of elements. All bases of U have the same length and same number of elements is dim(U).\n",
        "\n",
        "A list of vectors {u1,...,um} is orthonormal if the u's are pairwise orthogonal and each has a norm 1 .\n",
        "\n",
        "Orthogonal Projection - Let U ⊆ V be a linear subspace with orthonormal basis q1,...,qm. The orthogonal porjection of v ∊ V on U is Pu v = sum(j=1)< v , qj > qj.\n",
        "\n",
        "Best Approximation Theorem - Let U ⊆ V be a linear subspace with orthonormal basis q1,...,qm let v ∊ V. For any u ∊ U. ||v-Pu v|| <= ||v-u||.\n",
        "\n",
        "Pythagorean Theorem - Let u1 v ∊ V be orthogonal. Then ||u + v||^2 = ||u||^2 + ||v||^2\n",
        "\n",
        "Cauchy-Schwarz - For any u1 v ∊ V , |<u,v>| <= ||u|| ||v||\n",
        "\n",
        "Gram-Schmidt - Let a1,...,am in R^n be linearly independent. Then there exists an orthonormal basis, q1,...,qm of span(a1,...,am).\n",
        "\n",
        "Eigenvalues and Eigenvectors - Let A ∊ R^(dxd) be a square matrix. Then 𝜆 ∊ R is an eigenvalue of A if there exists a non-zero vector x != 0 such that Ax = 𝜆x. Vector x is an eigenvector."
      ],
      "metadata": {
        "id": "ChxT_ceX74Ic"
      }
    },
    {
      "cell_type": "code",
      "source": [
        "import numpy as np\n",
        "from numpy.linalg import eig\n",
        "x = np.array([ [5, 6], [3, 8] ])\n",
        "w,v = eig(x)\n",
        "print('E-value:', w)\n",
        "print('E-vector', v)"
      ],
      "metadata": {
        "colab": {
          "base_uri": "https://localhost:8080/"
        },
        "id": "sMZgBNtS774e",
        "outputId": "6f98ba22-47fd-4454-d9f0-9c1604432982"
      },
      "execution_count": 2,
      "outputs": [
        {
          "output_type": "stream",
          "name": "stdout",
          "text": [
            "E-value: [ 2. 11.]\n",
            "E-vector [[-0.89442719 -0.70710678]\n",
            " [ 0.4472136  -0.70710678]]\n"
          ]
        }
      ]
    },
    {
      "cell_type": "markdown",
      "source": [
        "Diagonal and Similar Matrices - Let A be similar to a matrix D = diag(𝜆1,...,𝜆d) with distinct diagonal entries, that exists a non-singular matric A such that A = PDP^-1\n",
        "\n",
        "If A is symmetric, then any 2 eigenvectors from different eigenspaces are orthogonal.\n",
        "\n",
        "The Spectral Theorem of Symmetric Matrices - A nxn symmetric matrix A has the following properties:\n",
        "\n",
        "A has n eigenvalyes, counting multiplicities.\n",
        "If 𝜆 is an eigenvalues of A with multiplicity k, then the eigenspace for x is k-dimensional.\n",
        "The eigenspaces are mutually orthogonal, in the sense that eigenvectrs corresponding to different vaues are orthogonal.\n",
        "A is orthogonally diagonalizable.\n"
      ],
      "metadata": {
        "id": "qg86c3CG78bX"
      }
    },
    {
      "cell_type": "markdown",
      "source": [
        "# 1.3 - Least Squares Regression\n",
        "\n",
        "QR Decomposition - a useful procedure to solve the linear least square problem using Gram-Schmidt.\n",
        "\n"
      ],
      "metadata": {
        "id": "5fA6EikH9v2q"
      }
    },
    {
      "cell_type": "code",
      "source": [
        "import numpy as np\n",
        "from numpy.linalg import qr\n",
        "x = np.array([[1, 4], [8, 6]])\n",
        "\n",
        "Q,R = qr(x)\n",
        "print('Q:', Q)\n",
        "print('R:', R)\n",
        "\n",
        "z = np.dot(Q, R)\n",
        "print('QR:', z)\n",
        "\n",
        "iterations = [1, 30]\n",
        "for i in range(30):\n",
        "    Q,R = qr(x)\n",
        "    x = np.dot(R, Q)\n",
        "    if i+1 in iterations:\n",
        "        print(f'Iteration {i+1}:')\n",
        "        print(x)"
      ],
      "metadata": {
        "colab": {
          "base_uri": "https://localhost:8080/"
        },
        "id": "PZNAaPDz9xE8",
        "outputId": "395134dd-a8fa-424b-a2d4-dcdcec68d283"
      },
      "execution_count": 9,
      "outputs": [
        {
          "output_type": "stream",
          "name": "stdout",
          "text": [
            "Q: [[-0.12403473 -0.99227788]\n",
            " [-0.99227788  0.12403473]]\n",
            "R: [[-8.06225775 -6.4498062 ]\n",
            " [ 0.         -3.2249031 ]]\n",
            "QR: [[1. 4.]\n",
            " [8. 6.]]\n",
            "Iteration 1:\n",
            "[[ 7.4  7.2]\n",
            " [ 3.2 -0.4]]\n",
            "Iteration 30:\n",
            "[[ 9.68465844e+00 -4.00000000e+00]\n",
            " [ 3.03523277e-16 -2.68465844e+00]]\n"
          ]
        }
      ]
    },
    {
      "cell_type": "markdown",
      "source": [
        "Normal Equations - Let A ∊ R^(nxm) be an nxm matrix with linearly independent columns and let b ∊ R^n be a vector. The solution to the least-squares problem min||Ax-b|| satisfies A^T Ax = A^T b which are known as the normal equations.\n",
        "\n",
        "Least Squares via QR - Let A ∊ R^(nxm) be an nxm matrix with linearly independent column, let b ∊ R^n be a vector and let A = QR be a QR decomposition of A where Q is a R^(nxm) matrix with Q^T Q = I(mxm) and T is an upper triangle."
      ],
      "metadata": {
        "id": "bn-FJP-891rA"
      }
    }
  ]
}