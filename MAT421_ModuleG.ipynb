{
  "nbformat": 4,
  "nbformat_minor": 0,
  "metadata": {
    "colab": {
      "provenance": [],
      "authorship_tag": "ABX9TyPqBeXziRqzWMOhXrlzcNbT",
      "include_colab_link": true
    },
    "kernelspec": {
      "name": "python3",
      "display_name": "Python 3"
    },
    "language_info": {
      "name": "python"
    }
  },
  "cells": [
    {
      "cell_type": "markdown",
      "metadata": {
        "id": "view-in-github",
        "colab_type": "text"
      },
      "source": [
        "<a href=\"https://colab.research.google.com/github/sjlippe/MAT-421/blob/main/MAT421_ModuleG.ipynb\" target=\"_parent\"><img src=\"https://colab.research.google.com/assets/colab-badge.svg\" alt=\"Open In Colab\"/></a>"
      ]
    },
    {
      "cell_type": "markdown",
      "source": [
        "# **Homework Module G: 21.1, 21.2, 21.3**\n"
      ],
      "metadata": {
        "id": "IU2Qz37x26zs"
      }
    },
    {
      "cell_type": "markdown",
      "source": [
        "# 21.1 Numerical Integration Problem Statement\n",
        "Function f(x):\n",
        "\n",
        "Take integral over total interval [a,b].\n",
        "\n",
        "Numerical grid consists of n+1 points with spacing h = (b - a)/n.\n",
        "\n",
        "Each point x on the grid equals x_i, where x_0 = a , and x_n = b\n",
        "\n",
        "The subinterval is [x_i, x_iplus1]\n",
        "\n",
        "Numerical Integration = ∫[a,b] f(x)dx"
      ],
      "metadata": {
        "id": "6BsZW2HJ3Rju"
      }
    },
    {
      "cell_type": "markdown",
      "source": [
        "# 21.2 Riemann's Integral\n",
        "Width of Rectangle = x_iplus1 - x_1 = h Height of Rectangle = defined by function value f(x) Riemann Integral Approximation:\n",
        "\n",
        "∫[a,b] f(x)dx = ∑[n-1, i=0] h f(x_i) = ∑[n, i=1] hf(x_i)\n",
        "\n",
        "(Sum Equations depend on if left or right endpoint is chosen to measure height)\n",
        "\n",
        "Taylor Series Substitution:\n",
        "\n",
        "∫[x_i,x_iplus1] f(x)dx = ∫[x_i,x_iplus1] (f(x_i) + f'(x_i)(x - x_i) + ...)dx = hf(x_i) + O(h^2)\n",
        "\n",
        "Riemann integral approximation over a single integral is O(h^2)\n",
        "\n",
        "h = (b - a)/n\n",
        "\n",
        "Total Error: O(h) = ((b - a)/n) * O(h^2) = the overall accuracy.\n",
        "\n",
        "Midpoint Rule:\n",
        "\n",
        "Takes the rectangular height of the rectangle at each subinterval to be the midpoint between x_i and x_iplus1 or y = (x_iplus1 + x_i)/2\n",
        "\n",
        "∫[a,b] f(x)dx = ∑[n, i=1] h f(y_i)\n",
        "\n",
        "Using Taylor Series Substitution:\n",
        "\n",
        "∫[x_i,x_iplus1] f(x)dx = hf(y_i) + O(h^3)"
      ],
      "metadata": {
        "id": "QTx3dyB_3fAc"
      }
    },
    {
      "cell_type": "code",
      "source": [
        "import numpy as np \n",
        "a = 0 \n",
        "b = np.pi\n",
        "n = 10\n",
        "h = (b - a)/(n - 1)\n",
        "x = np.linspace(a,b,n)\n",
        "f = np.cos(x)\n",
        "\n",
        "I_rl = h * sum(f[:n-1])\n",
        "err_rl = 0 - I_rl\n",
        "\n",
        "I_rr = h * sum(f[1:])\n",
        "err_rr = 0 - I_rr\n",
        "\n",
        "I_mid = h * sum(np.cos((x[:n-1] + x[1:]) / 2 ))\n",
        "err_mid = 0 - I_mid\n",
        "\n",
        "print(I_rl)\n",
        "print(err_rl)\n",
        "\n",
        "print(I_rr)\n",
        "print(err_rr)\n",
        "\n",
        "print(I_mid)\n",
        "print(err_mid)"
      ],
      "metadata": {
        "colab": {
          "base_uri": "https://localhost:8080/"
        },
        "id": "vObHI-X-3kcg",
        "outputId": "43b7fc28-517e-453d-e3bc-8a262e1fdc06"
      },
      "execution_count": 1,
      "outputs": [
        {
          "output_type": "stream",
          "name": "stdout",
          "text": [
            "0.34906585039886606\n",
            "-0.34906585039886606\n",
            "-0.3490658503988656\n",
            "0.3490658503988656\n",
            "1.5501637768927252e-16\n",
            "-1.5501637768927252e-16\n"
          ]
        }
      ]
    },
    {
      "cell_type": "markdown",
      "source": [
        "# 21.3 Trapezoid Rule\n",
        "Trapezoid Rule:\n",
        "\n",
        "Fits a trapezoid into each subinterval and sums the areas of the trapezoid to approximate the total integral.\n",
        "\n",
        "∫[a,b] f(x)dx = ∑[n-1, i=0] h (f(x_i) + f(x_iplus1))/2\n",
        "\n",
        "Expansion of Trapezoid Rule:\n",
        "\n",
        "∑[n-1, i=0] h (f(x_i) + f(x_iplus1))/2 = (h/2)[(f(x_0) + f(x_1)) + (f(x_1) + f(x_2)) + ... + (f(x_nminus1) + f(x_n))]\n",
        "\n",
        "Using Taylor Series Substitution:\n",
        "\n",
        "∫[x_i,x_iplus1] f(x)dx = h((f(x_i) + f(x_iplus1))/2) + O(h^3)\n",
        "\n",
        "Trapezoid rule approximation integral over subinterval = h(f(x_iplus1) + f(x_i))\n",
        "\n",
        "O(h^3) for single subinterval, O(h^2) for whole integral"
      ],
      "metadata": {
        "id": "Y5T_fdhk3ua7"
      }
    },
    {
      "cell_type": "code",
      "source": [
        "import numpy as np\n",
        "\n",
        "a = 0 \n",
        "b = np.pi\n",
        "n = 11\n",
        "h = (b - a)/(n - 1)\n",
        "x = np.linspace(a,b,n)\n",
        "f = np.cos(x)\n",
        "\n",
        "I_trap = (h/2)*(f[0] + 2*sum(f[1:n-1]) + f[n-1])\n",
        "err_trap = 0 - I_trap\n",
        "\n",
        "print(I_trap)\n",
        "print(err_trap)"
      ],
      "metadata": {
        "colab": {
          "base_uri": "https://localhost:8080/"
        },
        "id": "m0PDcsFC3wgs",
        "outputId": "563703b0-b1ec-4b1d-b4cb-44426b69a22c"
      },
      "execution_count": 2,
      "outputs": [
        {
          "output_type": "stream",
          "name": "stdout",
          "text": [
            "2.092721098805179e-16\n",
            "-2.092721098805179e-16\n"
          ]
        }
      ]
    }
  ]
}