{
  "nbformat": 4,
  "nbformat_minor": 0,
  "metadata": {
    "colab": {
      "provenance": [],
      "authorship_tag": "ABX9TyOXILvMfqBZIVRDTYunpvX0",
      "include_colab_link": true
    },
    "kernelspec": {
      "name": "python3",
      "display_name": "Python 3"
    },
    "language_info": {
      "name": "python"
    }
  },
  "cells": [
    {
      "cell_type": "markdown",
      "metadata": {
        "id": "view-in-github",
        "colab_type": "text"
      },
      "source": [
        "<a href=\"https://colab.research.google.com/github/sjlippe/MAT-421/blob/main/Homework_ModuleG.ipynb\" target=\"_parent\"><img src=\"https://colab.research.google.com/assets/colab-badge.svg\" alt=\"Open In Colab\"/></a>"
      ]
    },
    {
      "cell_type": "markdown",
      "source": [
        "# Homework Module G: 21.1, 21.2, 21.3"
      ],
      "metadata": {
        "id": "p12D84ZJu3ru"
      }
    },
    {
      "cell_type": "markdown",
      "source": [
        "# 21.4 Simpson's Rule\n",
        "Simpson's Rule - Approximates the area under f(x) over subintervals [x_iminus1, x_i] and [x_i,x_iplus1] by fitting a quadratic polynomial throught he points (x_iminus1, f(x_iminus1)),(x_i, f(x_i)) and (x_iplus1, f(x_iplus1)) which is a unique polynomial, then integrating that quadratic exactly.\n",
        "\n",
        "Final Version:\n",
        "\n",
        "∫[x_i,x_iplus1] f(x)dx = (h/3)((f(x_iplus1) + 4*f(x_i) + f(x_iplus1)) + O(h^5)"
      ],
      "metadata": {
        "id": "WGSUTDQou5_g"
      }
    },
    {
      "cell_type": "code",
      "source": [
        "import numpy as np\n",
        "\n",
        "a = 0 \n",
        "b = np.pi\n",
        "n = 11\n",
        "h = (b - a)/(n - 1)\n",
        "x = np.linspace( a, b, n)\n",
        "f = np.sin(x)\n",
        "I_simp = (h/3) * (f[0] + 2*sum(f[:n-2:]) + 4*sum(f[1:n-1:2]) + f[n-1])\n",
        "err_simp = 2 - I_simp\n",
        "\n",
        "print(I_simp)\n",
        "print(err_simp)"
      ],
      "metadata": {
        "colab": {
          "base_uri": "https://localhost:8080/"
        },
        "id": "BXNBLw5DvFev",
        "outputId": "77c03c80-4c3a-4fd8-c653-f53531d994ff"
      },
      "execution_count": 1,
      "outputs": [
        {
          "output_type": "stream",
          "name": "stdout",
          "text": [
            "2.6131496416661903\n",
            "-0.6131496416661903\n"
          ]
        }
      ]
    },
    {
      "cell_type": "markdown",
      "source": [
        "# 21.5 Computing Integrals in Python\n",
        "The scipy.integrate sub packages has several functions for computing integrals. The trapz takes input argument an array of function values f computed on a numerical grid x."
      ],
      "metadata": {
        "id": "IDlmUmauvL5H"
      }
    },
    {
      "cell_type": "code",
      "source": [
        "import numpy as np\n",
        "from scipy.integrate import trapz\n",
        "\n",
        "a = 0\n",
        "b = np.pi\n",
        "n = 11\n",
        "h = (b - a)/(n - 1)\n",
        "x = np.linspace(a , b, n)\n",
        "f = np.sin(x)\n",
        "I_trapz = trapz(f , x)\n",
        "I_trap = (h/2)*(f[0] + 2*sum(f[1:n-1]) + f[n-1])\n",
        "\n",
        "print(I_trapz)\n",
        "print(I_trap)"
      ],
      "metadata": {
        "colab": {
          "base_uri": "https://localhost:8080/"
        },
        "id": "r1eNRrULvWBq",
        "outputId": "06781afa-79a5-48d7-9e31-d060afae8844"
      },
      "execution_count": 2,
      "outputs": [
        {
          "output_type": "stream",
          "name": "stdout",
          "text": [
            "1.9835235375094544\n",
            "1.9835235375094546\n"
          ]
        }
      ]
    }
  ]
}