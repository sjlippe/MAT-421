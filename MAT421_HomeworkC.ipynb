{
  "nbformat": 4,
  "nbformat_minor": 0,
  "metadata": {
    "colab": {
      "provenance": [],
      "authorship_tag": "ABX9TyNcuGsetfUUTKk0qIJbegsn",
      "include_colab_link": true
    },
    "kernelspec": {
      "name": "python3",
      "display_name": "Python 3"
    },
    "language_info": {
      "name": "python"
    }
  },
  "cells": [
    {
      "cell_type": "markdown",
      "metadata": {
        "id": "view-in-github",
        "colab_type": "text"
      },
      "source": [
        "<a href=\"https://colab.research.google.com/github/sjlippe/MAT-421/blob/main/MAT421_HomeworkC.ipynb\" target=\"_parent\"><img src=\"https://colab.research.google.com/assets/colab-badge.svg\" alt=\"Open In Colab\"/></a>"
      ]
    },
    {
      "cell_type": "markdown",
      "source": [
        "# **Homework Module C: 19.1, 19.2, 19.3, 19.4, 19.5**"
      ],
      "metadata": {
        "id": "iNA1FT3Lhq2w"
      }
    },
    {
      "cell_type": "markdown",
      "source": [
        "\n",
        "# 19.1 - Root Finding Problem Statement\n",
        "\n",
        "Root finding is an extremely important numerical method that has numerous engineering applications. If we take a simple quadratic such as f(x)=x^2+3x+2, we can either use the quadratic equation or simply factor and find that f(x)=(x+2)(x+1). With this, we know that the roots are -2 and -1. As we progress and encounter much more difficult functions, we can utilize various numerical methods to approximate the roots of any function while also understanding the limitations in doing so.\n",
        "\n",
        "Simply using the example from the text will show that some functions do have roots and some do not by using an approximation technique in Python, *fsolve*.\n",
        "\n",
        "Example 1: f(x)=cos(x)-x\n",
        "\n",
        "Example 2: f(x)=1/x\n",
        "\n"
      ],
      "metadata": {
        "id": "FzXcovXvJQOt"
      }
    },
    {
      "cell_type": "code",
      "source": [
        "import numpy as np\n",
        "from scipy import optimize\n",
        "\n",
        "f = lambda x: np.cos(x) - x\n",
        "r = optimize.fsolve(f, -2)\n",
        "print(\"r =\", r)\n",
        "\n",
        "# Verify the solution is a root\n",
        "result = f(r)\n",
        "print(\"result=\", result)"
      ],
      "metadata": {
        "colab": {
          "base_uri": "https://localhost:8080/"
        },
        "id": "s7KmFUniLfGx",
        "outputId": "13c81f57-f0cd-4d32-ac04-021cec365df5"
      },
      "execution_count": 4,
      "outputs": [
        {
          "output_type": "stream",
          "name": "stdout",
          "text": [
            "r = [0.73908513]\n",
            "result= [0.]\n"
          ]
        }
      ]
    },
    {
      "cell_type": "code",
      "source": [
        "f = lambda x: 1/x\n",
        "\n",
        "r, infodict, ier, mesg = optimize.fsolve(f, -2, full_output=True)\n",
        "print(\"r =\", r)\n",
        "\n",
        "result = f(r)\n",
        "print(\"result=\", result)\n",
        "\n",
        "print(mesg)"
      ],
      "metadata": {
        "colab": {
          "base_uri": "https://localhost:8080/"
        },
        "id": "RYsUJuNLNoB7",
        "outputId": "b6a8cbbc-f3e9-4d76-be66-5b79f1ea6431"
      },
      "execution_count": 5,
      "outputs": [
        {
          "output_type": "stream",
          "name": "stdout",
          "text": [
            "r = [-3.52047359e+83]\n",
            "result= [-2.84052692e-84]\n",
            "The number of calls to function has reached maxfev = 400.\n"
          ]
        }
      ]
    },
    {
      "cell_type": "markdown",
      "source": [
        "# 19.2 - Tolerances\n",
        "\n",
        "Tolerancing is a useful feature in error analysis that defines a range of acceptable values. The levels of tolerance depend on the intended applications. For example, dowel pins in mechanical design will have very tight tolerances while such things as fillets will not need a very tight tolerance. In numerical methods, it is said that the program converges when it has found a solution within the appropriate tolerance range.\n",
        "\n",
        "\n",
        "\n",
        "*  Want an x_r such that f(x_r) is very close to zero.\n",
        "*   Therefore |f(x)| is a possible choice for measure of error since the smaller the number is, the closer to a root it is.\n",
        "*   If the x_i is the i^th guess of an algorithm for finding a root, then |x_iplus1 - x_i| is another possible measure of error.\n",
        "\n",
        "\n",
        "\n",
        "\n",
        "\n",
        "\n"
      ],
      "metadata": {
        "id": "A-EMtbIoOIYb"
      }
    },
    {
      "cell_type": "markdown",
      "source": [
        "# 19.3 - Bisection Method\n",
        "\n",
        "The bisection method is another numerical technique that uses the intermediate value therom to approximate the roots of a function. The following will demonstrate the steps to approximate roots using this method.\n",
        "1.   Define the function\n",
        "2.   Determine a range of points [a,b]\n",
        "3.   Find the midpoint of these points c = (a+b) / 2\n",
        "4.   If f(a) and f(c) change signs, pick that interval. If they are the same sign, pick the other interval.\n",
        "5.   Repeat steps 3 and 4  n number of times until the interval is infintesimally small and the error is within an acceptable range\n",
        "\n",
        "\n",
        "\n",
        "\n",
        "\n"
      ],
      "metadata": {
        "id": "xBUatG0NRSYW"
      }
    },
    {
      "cell_type": "code",
      "source": [
        "import numpy as np\n",
        "\n",
        "def my_bisection(f, a, b, tol):         # Approximates a root ,R, of f bounded by a and b to within tolerance |f(m)| < tol with m as the midpoint between a and b \n",
        "  m = (a + b)/2\n",
        "  if np.sign(f(a)) == np.sign(f(b)):    # Checks if a and b bound a root\n",
        "    raise Exception(\"The scalars a and b do not bound a root\")\n",
        "  if np.abs(f(m)) < tol:\n",
        "    return m \n",
        "  elif np.sign(f(a)) == np.sign(f(m)):  # Case where m is an improvement on a \n",
        "    return my_bisection(f, m, b, tol)\n",
        "  elif np.sign(f(b)) == np.sign(f(m)):  # Case where m is an improvement on b\n",
        "    return my_bisection(f, a, m, tol)\n",
        "\n",
        "     \n",
        "\n",
        "f = lambda x: x**2 - 2 \n",
        "r1 = my_bisection(f, 0, 2, 0.1)         # Tolerance of 0.1\n",
        "print(\"r1 = \", r1)\n",
        "r01 = my_bisection(f, 0, 2, 0.01)       # Tolerance of 0.01\n",
        "print(\"r01 = \", r01)\n",
        "print(\"f(r1) = \", f(r1))\n",
        "print(\"f(r01) = \", f(r01))\n",
        "\n",
        "\n",
        "my_bisection(f, 2, 4, 0.01) \n",
        "# This kicks back an exception because there is no roots that lie between the given a and b (2 and 4)"
      ],
      "metadata": {
        "colab": {
          "base_uri": "https://localhost:8080/",
          "height": 409
        },
        "id": "0VVuggTcgYEO",
        "outputId": "afaac943-0932-422c-917c-5610ccc30310"
      },
      "execution_count": 14,
      "outputs": [
        {
          "output_type": "stream",
          "name": "stdout",
          "text": [
            "r1 =  1.4375\n",
            "r01 =  1.4140625\n",
            "f(r1) =  0.06640625\n",
            "f(r01) =  -0.00042724609375\n"
          ]
        },
        {
          "output_type": "error",
          "ename": "Exception",
          "evalue": "ignored",
          "traceback": [
            "\u001b[0;31m---------------------------------------------------------------------------\u001b[0m",
            "\u001b[0;31mException\u001b[0m                                 Traceback (most recent call last)",
            "\u001b[0;32m<ipython-input-14-49208a7d22ab>\u001b[0m in \u001b[0;36m<module>\u001b[0;34m\u001b[0m\n\u001b[1;32m     23\u001b[0m \u001b[0;34m\u001b[0m\u001b[0m\n\u001b[1;32m     24\u001b[0m \u001b[0;34m\u001b[0m\u001b[0m\n\u001b[0;32m---> 25\u001b[0;31m \u001b[0mmy_bisection\u001b[0m\u001b[0;34m(\u001b[0m\u001b[0mf\u001b[0m\u001b[0;34m,\u001b[0m \u001b[0;36m2\u001b[0m\u001b[0;34m,\u001b[0m \u001b[0;36m4\u001b[0m\u001b[0;34m,\u001b[0m \u001b[0;36m0.01\u001b[0m\u001b[0;34m)\u001b[0m\u001b[0;34m\u001b[0m\u001b[0;34m\u001b[0m\u001b[0m\n\u001b[0m\u001b[1;32m     26\u001b[0m \u001b[0;31m# This kicks back an exception because there is no roots that lie between the given a and b (2 and 4)\u001b[0m\u001b[0;34m\u001b[0m\u001b[0;34m\u001b[0m\u001b[0;34m\u001b[0m\u001b[0m\n",
            "\u001b[0;32m<ipython-input-14-49208a7d22ab>\u001b[0m in \u001b[0;36mmy_bisection\u001b[0;34m(f, a, b, tol)\u001b[0m\n\u001b[1;32m      4\u001b[0m   \u001b[0mm\u001b[0m \u001b[0;34m=\u001b[0m \u001b[0;34m(\u001b[0m\u001b[0ma\u001b[0m \u001b[0;34m+\u001b[0m \u001b[0mb\u001b[0m\u001b[0;34m)\u001b[0m\u001b[0;34m/\u001b[0m\u001b[0;36m2\u001b[0m\u001b[0;34m\u001b[0m\u001b[0;34m\u001b[0m\u001b[0m\n\u001b[1;32m      5\u001b[0m   \u001b[0;32mif\u001b[0m \u001b[0mnp\u001b[0m\u001b[0;34m.\u001b[0m\u001b[0msign\u001b[0m\u001b[0;34m(\u001b[0m\u001b[0mf\u001b[0m\u001b[0;34m(\u001b[0m\u001b[0ma\u001b[0m\u001b[0;34m)\u001b[0m\u001b[0;34m)\u001b[0m \u001b[0;34m==\u001b[0m \u001b[0mnp\u001b[0m\u001b[0;34m.\u001b[0m\u001b[0msign\u001b[0m\u001b[0;34m(\u001b[0m\u001b[0mf\u001b[0m\u001b[0;34m(\u001b[0m\u001b[0mb\u001b[0m\u001b[0;34m)\u001b[0m\u001b[0;34m)\u001b[0m\u001b[0;34m:\u001b[0m    \u001b[0;31m# Checks if a and b bound a root\u001b[0m\u001b[0;34m\u001b[0m\u001b[0;34m\u001b[0m\u001b[0m\n\u001b[0;32m----> 6\u001b[0;31m     \u001b[0;32mraise\u001b[0m \u001b[0mException\u001b[0m\u001b[0;34m(\u001b[0m\u001b[0;34m\"The scalars a and b do not bound a root\"\u001b[0m\u001b[0;34m)\u001b[0m\u001b[0;34m\u001b[0m\u001b[0;34m\u001b[0m\u001b[0m\n\u001b[0m\u001b[1;32m      7\u001b[0m   \u001b[0;32mif\u001b[0m \u001b[0mnp\u001b[0m\u001b[0;34m.\u001b[0m\u001b[0mabs\u001b[0m\u001b[0;34m(\u001b[0m\u001b[0mf\u001b[0m\u001b[0;34m(\u001b[0m\u001b[0mm\u001b[0m\u001b[0;34m)\u001b[0m\u001b[0;34m)\u001b[0m \u001b[0;34m<\u001b[0m \u001b[0mtol\u001b[0m\u001b[0;34m:\u001b[0m\u001b[0;34m\u001b[0m\u001b[0;34m\u001b[0m\u001b[0m\n\u001b[1;32m      8\u001b[0m     \u001b[0;32mreturn\u001b[0m \u001b[0mm\u001b[0m\u001b[0;34m\u001b[0m\u001b[0;34m\u001b[0m\u001b[0m\n",
            "\u001b[0;31mException\u001b[0m: The scalars a and b do not bound a root"
          ]
        }
      ]
    },
    {
      "cell_type": "code",
      "source": [],
      "metadata": {
        "colab": {
          "base_uri": "https://localhost:8080/",
          "height": 288
        },
        "id": "Hw9Ih5yDgsgC",
        "outputId": "6c2d0479-57fa-4902-e11e-16aa95df2ce2"
      },
      "execution_count": 12,
      "outputs": [
        {
          "output_type": "error",
          "ename": "Exception",
          "evalue": "ignored",
          "traceback": [
            "\u001b[0;31m---------------------------------------------------------------------------\u001b[0m",
            "\u001b[0;31mException\u001b[0m                                 Traceback (most recent call last)",
            "\u001b[0;32m<ipython-input-12-4158b7a9ae67>\u001b[0m in \u001b[0;36m<module>\u001b[0;34m\u001b[0m\n\u001b[0;32m----> 1\u001b[0;31m \u001b[0mmy_bisection\u001b[0m\u001b[0;34m(\u001b[0m\u001b[0mf\u001b[0m\u001b[0;34m,\u001b[0m \u001b[0;36m2\u001b[0m\u001b[0;34m,\u001b[0m \u001b[0;36m4\u001b[0m\u001b[0;34m,\u001b[0m \u001b[0;36m0.01\u001b[0m\u001b[0;34m)\u001b[0m\u001b[0;34m\u001b[0m\u001b[0;34m\u001b[0m\u001b[0m\n\u001b[0m",
            "\u001b[0;32m<ipython-input-11-2c8941ac9a08>\u001b[0m in \u001b[0;36mmy_bisection\u001b[0;34m(f, a, b, tol)\u001b[0m\n\u001b[1;32m      4\u001b[0m   \u001b[0mm\u001b[0m \u001b[0;34m=\u001b[0m \u001b[0;34m(\u001b[0m\u001b[0ma\u001b[0m \u001b[0;34m+\u001b[0m \u001b[0mb\u001b[0m\u001b[0;34m)\u001b[0m\u001b[0;34m/\u001b[0m\u001b[0;36m2\u001b[0m\u001b[0;34m\u001b[0m\u001b[0;34m\u001b[0m\u001b[0m\n\u001b[1;32m      5\u001b[0m   \u001b[0;32mif\u001b[0m \u001b[0mnp\u001b[0m\u001b[0;34m.\u001b[0m\u001b[0msign\u001b[0m\u001b[0;34m(\u001b[0m\u001b[0mf\u001b[0m\u001b[0;34m(\u001b[0m\u001b[0ma\u001b[0m\u001b[0;34m)\u001b[0m\u001b[0;34m)\u001b[0m \u001b[0;34m==\u001b[0m \u001b[0mnp\u001b[0m\u001b[0;34m.\u001b[0m\u001b[0msign\u001b[0m\u001b[0;34m(\u001b[0m\u001b[0mf\u001b[0m\u001b[0;34m(\u001b[0m\u001b[0mb\u001b[0m\u001b[0;34m)\u001b[0m\u001b[0;34m)\u001b[0m\u001b[0;34m:\u001b[0m    \u001b[0;31m# Checks if a and b bound a root\u001b[0m\u001b[0;34m\u001b[0m\u001b[0;34m\u001b[0m\u001b[0m\n\u001b[0;32m----> 6\u001b[0;31m     \u001b[0;32mraise\u001b[0m \u001b[0mException\u001b[0m\u001b[0;34m(\u001b[0m\u001b[0;34m\"The scalars a and b do not bound a root\"\u001b[0m\u001b[0;34m)\u001b[0m\u001b[0;34m\u001b[0m\u001b[0;34m\u001b[0m\u001b[0m\n\u001b[0m\u001b[1;32m      7\u001b[0m   \u001b[0;32mif\u001b[0m \u001b[0mnp\u001b[0m\u001b[0;34m.\u001b[0m\u001b[0mabs\u001b[0m\u001b[0;34m(\u001b[0m\u001b[0mf\u001b[0m\u001b[0;34m(\u001b[0m\u001b[0mm\u001b[0m\u001b[0;34m)\u001b[0m\u001b[0;34m)\u001b[0m \u001b[0;34m<\u001b[0m \u001b[0mtol\u001b[0m\u001b[0;34m:\u001b[0m\u001b[0;34m\u001b[0m\u001b[0;34m\u001b[0m\u001b[0m\n\u001b[1;32m      8\u001b[0m     \u001b[0;32mreturn\u001b[0m \u001b[0mm\u001b[0m\u001b[0;34m\u001b[0m\u001b[0;34m\u001b[0m\u001b[0m\n",
            "\u001b[0;31mException\u001b[0m: The scalars a and b do not bound a root"
          ]
        }
      ]
    },
    {
      "cell_type": "markdown",
      "source": [
        "# 19.4 - Newton-Raphson Method\n",
        "\n",
        "The newton-raphson method is another numerical approximation technique used to obtain roots by iteration. Assume we have a continuous function f(x) and x_r is an unknown root of f(x). The following steps outline this method.\n",
        "*   Start with a guess, x_0 for x_r\n",
        "*   Find x_1 that is an improvement on x_0\n",
        "*   Assume x_0 is close enough to x_r \n",
        "*   Take the linear approximation of f(x) around x(0)\n",
        "*   Find the intersection of this line and the x-axis\n",
        "\n",
        "After carying out these steps, the following equation is achieved:\n",
        "\n",
        "x1 = x0 − [f(x0) / f'(x0)] - (Eq 1)\n",
        "\n",
        "We then arrive to the equation that outlines the newton raphson method called the newton step which finds an improved guess using the previous guess.\n",
        "\n",
        "xi = x(i-1) - [g(x(i−1)) / g'(x(i-1))] - (Eq 2)\n",
        "\n",
        "Overall, this method is used to iterate newton steps from x_0 until the error is less than the tolerance.\n",
        "\n",
        "\n",
        "\n"
      ],
      "metadata": {
        "id": "C8cAfZIQSNCZ"
      }
    },
    {
      "cell_type": "code",
      "source": [
        "import numpy as np\n",
        "f = lambda x: x**2 - 2\n",
        "f_prime = lambda x: 2*x\n",
        "newton_raphson = 1.4 - (f(1.4))/(f_prime(1.4))      # 1.4 is the initial guess and starting point\n",
        "\n",
        "print(\"Newton-Raphson = \", newton_raphson)\n",
        "print(\"Sqrt(2) = \", np.sqrt(2))\n",
        "\n",
        "def my_newton(f, df, x0, tol):      # Output is n estimation of the root of f using the Newton-Raphson Method\n",
        "    if abs(f(x0)) < tol:\n",
        "      return x0\n",
        "    else:\n",
        "      return my_newton(f, df, x0-f(x0)/df(x0), tol)     # (Eq 1) from above using linear approximation\n",
        "\n",
        "estimate = my_newton(f, f_prime, 1.5, 1e-6)   # 1.5 is the start point, and 1e-6 is the tolerance\n",
        "print(\"Estimate = \", estimate)\n",
        "print(\"Sqrt(2) = \", np.sqrt(2))"
      ],
      "metadata": {
        "colab": {
          "base_uri": "https://localhost:8080/"
        },
        "id": "v8UF2LMrZ83C",
        "outputId": "eb9f46b5-fda3-4fd9-e782-52f62f4663f8"
      },
      "execution_count": 8,
      "outputs": [
        {
          "output_type": "stream",
          "name": "stdout",
          "text": [
            "Newton-Raphson =  1.4142857142857144\n",
            "Sqrt(2) =  1.4142135623730951\n",
            "Estimate =  1.4142135623746899\n",
            "Sqrt(2) =  1.4142135623730951\n"
          ]
        }
      ]
    },
    {
      "cell_type": "markdown",
      "source": [
        "# 19.5 - Root Finding in Python\n",
        "\n",
        "Python has a function that makes root finding very simple for some complex functions. By using f_solve from the scipy.optimize, the roots can be obtained with little hastle. The following example demonstrates finding the roots of a cubic function.\n",
        "\n",
        "\n",
        "Example: f(x)= x^3-100x^2-x-100\n",
        "  "
      ],
      "metadata": {
        "id": "RwzK2QVWSTjL"
      }
    },
    {
      "cell_type": "code",
      "source": [
        "from scipy.optimize import fsolve\n",
        "f = lambda x: x**3-100*x**2-x+100\n",
        "\n",
        "fsolve(f, [2, 80])"
      ],
      "metadata": {
        "colab": {
          "base_uri": "https://localhost:8080/"
        },
        "id": "5G_ue-QcTYov",
        "outputId": "a73224b4-d36e-419b-fe96-e8459334ff6e"
      },
      "execution_count": 7,
      "outputs": [
        {
          "output_type": "execute_result",
          "data": {
            "text/plain": [
              "array([  1., 100.])"
            ]
          },
          "metadata": {},
          "execution_count": 7
        }
      ]
    }
  ]
}